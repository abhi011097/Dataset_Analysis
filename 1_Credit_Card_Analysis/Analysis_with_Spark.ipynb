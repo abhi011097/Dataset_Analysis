{
 "cells": [
  {
   "cell_type": "code",
   "execution_count": 1,
   "id": "c22c785a-401d-458b-b37a-af1c7449b58b",
   "metadata": {},
   "outputs": [],
   "source": [
    "from pyspark.sql import SparkSession\n",
    "import numpy as np # linear algebra\n",
    "import pandas as pd # data processing , reading the csv file (pd.read_csv)\n",
    "import matplotlib.pyplot as plt\n",
    "import seaborn as sns\n",
    "import warnings\n",
    "import os"
   ]
  },
  {
   "cell_type": "code",
   "execution_count": 2,
   "id": "0416ea12-c9ea-408b-a4e1-00398f70a28c",
   "metadata": {},
   "outputs": [
    {
     "name": "stderr",
     "output_type": "stream",
     "text": [
      "22/12/25 18:06:59 WARN Utils: Your hostname, Abhisheks-MacBook-Air.local resolves to a loopback address: 127.0.0.1; using 192.168.1.5 instead (on interface en0)\n",
      "22/12/25 18:06:59 WARN Utils: Set SPARK_LOCAL_IP if you need to bind to another address\n",
      "WARNING: An illegal reflective access operation has occurred\n",
      "WARNING: Illegal reflective access by org.apache.spark.unsafe.Platform (file:/Users/abhi011097/opt/anaconda3/lib/python3.9/site-packages/pyspark/jars/spark-unsafe_2.12-3.2.1.jar) to constructor java.nio.DirectByteBuffer(long,int)\n",
      "WARNING: Please consider reporting this to the maintainers of org.apache.spark.unsafe.Platform\n",
      "WARNING: Use --illegal-access=warn to enable warnings of further illegal reflective access operations\n",
      "WARNING: All illegal access operations will be denied in a future release\n",
      "Using Spark's default log4j profile: org/apache/spark/log4j-defaults.properties\n",
      "Setting default log level to \"WARN\".\n",
      "To adjust logging level use sc.setLogLevel(newLevel). For SparkR, use setLogLevel(newLevel).\n",
      "22/12/25 18:07:00 WARN NativeCodeLoader: Unable to load native-hadoop library for your platform... using builtin-java classes where applicable\n"
     ]
    }
   ],
   "source": [
    "%matplotlib inline\n",
    "warnings.filterwarnings(\"ignore\")\n",
    "\n",
    "spark = SparkSession.builder \\\n",
    "          .master(\"local[*]\") \\\n",
    "          .appName(\"Credit Card Analysis\") \\\n",
    "          .getOrCreate()\n",
    "\n",
    "spark.sparkContext.setLogLevel(\"ERROR\")"
   ]
  },
  {
   "cell_type": "code",
   "execution_count": 3,
   "id": "91472587-f332-4129-bd01-ce15ccad89e9",
   "metadata": {},
   "outputs": [
    {
     "data": {
      "text/html": [
       "\n",
       "            <div>\n",
       "                <p><b>SparkSession - in-memory</b></p>\n",
       "                \n",
       "        <div>\n",
       "            <p><b>SparkContext</b></p>\n",
       "\n",
       "            <p><a href=\"http://192.168.1.5:4040\">Spark UI</a></p>\n",
       "\n",
       "            <dl>\n",
       "              <dt>Version</dt>\n",
       "                <dd><code>v3.2.1</code></dd>\n",
       "              <dt>Master</dt>\n",
       "                <dd><code>local[*]</code></dd>\n",
       "              <dt>AppName</dt>\n",
       "                <dd><code>Credit Card Analysis</code></dd>\n",
       "            </dl>\n",
       "        </div>\n",
       "        \n",
       "            </div>\n",
       "        "
      ],
      "text/plain": [
       "<pyspark.sql.session.SparkSession at 0x7fa001b10430>"
      ]
     },
     "execution_count": 3,
     "metadata": {},
     "output_type": "execute_result"
    }
   ],
   "source": [
    "spark"
   ]
  },
  {
   "cell_type": "code",
   "execution_count": 4,
   "id": "318a1de2-709f-4e04-aaf9-df62f62a9e47",
   "metadata": {},
   "outputs": [],
   "source": [
    "trxns = spark\\\n",
    "        .read\\\n",
    "        .option(\"header\", \"true\")\\\n",
    "        .csv(\"/Users/abhi011097/Dataset_Analysis/1_Credit_Card_Analysis/Dataset/Credit_card_transactions.csv\")\n",
    "\n",
    "trxns.registerTempTable(\"transactions\")"
   ]
  },
  {
   "cell_type": "markdown",
   "id": "efe01f21-0bb8-44ed-b900-885d87406c5d",
   "metadata": {
    "tags": []
   },
   "source": [
    "#### Describe Dataframe"
   ]
  },
  {
   "cell_type": "code",
   "execution_count": 5,
   "id": "4a708638-8a68-4d87-96be-12be200caed2",
   "metadata": {},
   "outputs": [
    {
     "name": "stderr",
     "output_type": "stream",
     "text": [
      "[Stage 1:>                                                          (0 + 1) / 1]\r"
     ]
    },
    {
     "name": "stdout",
     "output_type": "stream",
     "text": [
      "+-------+-----------------+----------------+--------+---------+--------+------+------------------+\n",
      "|summary|            index|            City|    Date|Card Type|Exp Type|Gender|            Amount|\n",
      "+-------+-----------------+----------------+--------+---------+--------+------+------------------+\n",
      "|  count|            26052|           26052|   26052|    26052|   26052| 26052|             26052|\n",
      "|   mean|          13025.5|            null|    null|     null|    null|  null| 156411.5374251497|\n",
      "| stddev|7520.708942646298|            null|    null|     null|    null|  null|103063.25428673124|\n",
      "|    min|                0| Achalpur, India|1-Apr-14|     Gold|   Bills|     F|            100013|\n",
      "|    max|             9999|Zunheboto, India|9-Sep-14|   Silver|  Travel|     M|              9999|\n",
      "+-------+-----------------+----------------+--------+---------+--------+------+------------------+\n",
      "\n"
     ]
    },
    {
     "name": "stderr",
     "output_type": "stream",
     "text": [
      "                                                                                \r"
     ]
    }
   ],
   "source": [
    "trxns.describe().show()"
   ]
  },
  {
   "cell_type": "markdown",
   "id": "d4b38fb3-dd67-4b83-ad24-10310635587e",
   "metadata": {
    "tags": []
   },
   "source": [
    "#### See first 2 rows "
   ]
  },
  {
   "cell_type": "code",
   "execution_count": 6,
   "id": "766e1fe8-d800-4223-b49f-e234545478bc",
   "metadata": {},
   "outputs": [
    {
     "name": "stdout",
     "output_type": "stream",
     "text": [
      "+-----+--------------------+---------+---------+--------+------+------+\n",
      "|index|                City|     Date|Card Type|Exp Type|Gender|Amount|\n",
      "+-----+--------------------+---------+---------+--------+------+------+\n",
      "|    0|        Delhi, India|29-Oct-14|     Gold|   Bills|     F| 82475|\n",
      "|    1|Greater Mumbai, I...|22-Aug-14| Platinum|   Bills|     F| 32555|\n",
      "+-----+--------------------+---------+---------+--------+------+------+\n",
      "only showing top 2 rows\n",
      "\n"
     ]
    }
   ],
   "source": [
    "trxns.show(2)"
   ]
  },
  {
   "cell_type": "code",
   "execution_count": 7,
   "id": "c843c587-2f54-42c3-b806-bf1c5fa84547",
   "metadata": {},
   "outputs": [
    {
     "name": "stdout",
     "output_type": "stream",
     "text": [
      "+-----+--------------------+---------+---------+--------+------+------+\n",
      "|index|                City|     Date|Card Type|Exp Type|Gender|Amount|\n",
      "+-----+--------------------+---------+---------+--------+------+------+\n",
      "|    0|        Delhi, India|29-Oct-14|     Gold|   Bills|     F| 82475|\n",
      "|    1|Greater Mumbai, I...|22-Aug-14| Platinum|   Bills|     F| 32555|\n",
      "+-----+--------------------+---------+---------+--------+------+------+\n",
      "\n"
     ]
    }
   ],
   "source": [
    "spark.sql(\"Select * from transactions limit 2\").show()"
   ]
  },
  {
   "cell_type": "markdown",
   "id": "96e4f88b-d3ff-4103-a68b-14bec35b939c",
   "metadata": {
    "tags": []
   },
   "source": [
    "#### Find total no of records"
   ]
  },
  {
   "cell_type": "markdown",
   "id": "176a62a6-692d-4056-b9eb-3dd1bc4fb338",
   "metadata": {
    "tags": []
   },
   "source": [
    "#### Stop Spark"
   ]
  },
  {
   "cell_type": "code",
   "execution_count": 8,
   "id": "0a0978d4-3d59-4c2e-8e8f-f00cd4ef1184",
   "metadata": {},
   "outputs": [],
   "source": [
    "spark.stop()"
   ]
  },
  {
   "cell_type": "code",
   "execution_count": null,
   "id": "5e541edf-f50c-4e8c-9081-0ec2b3b6efc4",
   "metadata": {},
   "outputs": [],
   "source": []
  }
 ],
 "metadata": {
  "kernelspec": {
   "display_name": "Python 3 (ipykernel)",
   "language": "python",
   "name": "python3"
  },
  "language_info": {
   "codemirror_mode": {
    "name": "ipython",
    "version": 3
   },
   "file_extension": ".py",
   "mimetype": "text/x-python",
   "name": "python",
   "nbconvert_exporter": "python",
   "pygments_lexer": "ipython3",
   "version": "3.9.13"
  }
 },
 "nbformat": 4,
 "nbformat_minor": 5
}
